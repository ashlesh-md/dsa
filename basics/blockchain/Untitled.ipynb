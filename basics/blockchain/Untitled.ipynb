{
 "cells": [
  {
   "cell_type": "code",
   "execution_count": 50,
   "id": "cc9823e0-981b-456f-b196-8649019e8bc2",
   "metadata": {},
   "outputs": [],
   "source": [
    "import sawtooth_sdk.processor.handler as handler\n",
    "import sawtooth_sdk.processor.exceptions as exceptions\n",
    "import sawtooth_sdk.protobuf.transaction_pb2 as transaction_pb2\n",
    "from sawtooth_sdk.protobuf.transaction_pb2 import TransactionHeader\n",
    "from sawtooth_sdk.protobuf.transaction_pb2 import Transaction\n"
   ]
  },
  {
   "cell_type": "code",
   "execution_count": 56,
   "id": "a0b453fd-d881-4048-ad18-b15fde47c0b9",
   "metadata": {},
   "outputs": [
    {
     "name": "stdout",
     "output_type": "stream",
     "text": [
      "Requirement already satisfied: sawtooth_sdk in /Users/AshleshMD/myenv/lib/python3.11/site-packages (1.2.5)\n",
      "Requirement already satisfied: colorlog in /Users/AshleshMD/myenv/lib/python3.11/site-packages (from sawtooth_sdk) (6.7.0)\n",
      "Requirement already satisfied: protobuf in /Users/AshleshMD/myenv/lib/python3.11/site-packages (from sawtooth_sdk) (3.20.0)\n",
      "Requirement already satisfied: pyzmq in /Users/AshleshMD/myenv/lib/python3.11/site-packages (from sawtooth_sdk) (25.1.1)\n",
      "Requirement already satisfied: secp256k1 in /Users/AshleshMD/myenv/lib/python3.11/site-packages (from sawtooth_sdk) (0.14.0)\n",
      "Requirement already satisfied: toml in /Users/AshleshMD/myenv/lib/python3.11/site-packages (from sawtooth_sdk) (0.10.2)\n",
      "Requirement already satisfied: PyYAML in /Users/AshleshMD/myenv/lib/python3.11/site-packages (from sawtooth_sdk) (6.0.1)\n",
      "Requirement already satisfied: cffi>=1.3.0 in /Users/AshleshMD/myenv/lib/python3.11/site-packages (from secp256k1->sawtooth_sdk) (1.15.1)\n",
      "Requirement already satisfied: pycparser in /Users/AshleshMD/myenv/lib/python3.11/site-packages (from cffi>=1.3.0->secp256k1->sawtooth_sdk) (2.21)\n",
      "Note: you may need to restart the kernel to use updated packages.\n"
     ]
    }
   ],
   "source": [
    "pip install --upgrade sawtooth_sdk"
   ]
  },
  {
   "cell_type": "code",
   "execution_count": 64,
   "id": "8a107285-78b6-459a-9e8f-a1c3548297b4",
   "metadata": {},
   "outputs": [
    {
     "ename": "AttributeError",
     "evalue": "module 'asyncio' has no attribute 'coroutine'",
     "output_type": "error",
     "traceback": [
      "\u001b[0;31m---------------------------------------------------------------------------\u001b[0m",
      "\u001b[0;31mAttributeError\u001b[0m                            Traceback (most recent call last)",
      "Cell \u001b[0;32mIn[64], line 1\u001b[0m\n\u001b[0;32m----> 1\u001b[0m \u001b[38;5;28;01mimport\u001b[39;00m \u001b[38;5;21;01msawtooth_sdk\u001b[39;00m\u001b[38;5;21;01m.\u001b[39;00m\u001b[38;5;21;01mprocessor\u001b[39;00m\u001b[38;5;21;01m.\u001b[39;00m\u001b[38;5;21;01mcore\u001b[39;00m\n",
      "File \u001b[0;32m~/myenv/lib/python3.11/site-packages/sawtooth_sdk/processor/core.py:26\u001b[0m\n\u001b[1;32m     24\u001b[0m \u001b[38;5;28;01mfrom\u001b[39;00m \u001b[38;5;21;01msawtooth_sdk\u001b[39;00m\u001b[38;5;21;01m.\u001b[39;00m\u001b[38;5;21;01mmessaging\u001b[39;00m\u001b[38;5;21;01m.\u001b[39;00m\u001b[38;5;21;01mexceptions\u001b[39;00m \u001b[38;5;28;01mimport\u001b[39;00m ValidatorVersionError\n\u001b[1;32m     25\u001b[0m \u001b[38;5;28;01mfrom\u001b[39;00m \u001b[38;5;21;01msawtooth_sdk\u001b[39;00m\u001b[38;5;21;01m.\u001b[39;00m\u001b[38;5;21;01mmessaging\u001b[39;00m\u001b[38;5;21;01m.\u001b[39;00m\u001b[38;5;21;01mfuture\u001b[39;00m \u001b[38;5;28;01mimport\u001b[39;00m FutureTimeoutError\n\u001b[0;32m---> 26\u001b[0m \u001b[38;5;28;01mfrom\u001b[39;00m \u001b[38;5;21;01msawtooth_sdk\u001b[39;00m\u001b[38;5;21;01m.\u001b[39;00m\u001b[38;5;21;01mmessaging\u001b[39;00m\u001b[38;5;21;01m.\u001b[39;00m\u001b[38;5;21;01mstream\u001b[39;00m \u001b[38;5;28;01mimport\u001b[39;00m RECONNECT_EVENT\n\u001b[1;32m     27\u001b[0m \u001b[38;5;28;01mfrom\u001b[39;00m \u001b[38;5;21;01msawtooth_sdk\u001b[39;00m\u001b[38;5;21;01m.\u001b[39;00m\u001b[38;5;21;01mmessaging\u001b[39;00m\u001b[38;5;21;01m.\u001b[39;00m\u001b[38;5;21;01mstream\u001b[39;00m \u001b[38;5;28;01mimport\u001b[39;00m Stream\n\u001b[1;32m     29\u001b[0m \u001b[38;5;28;01mfrom\u001b[39;00m \u001b[38;5;21;01msawtooth_sdk\u001b[39;00m\u001b[38;5;21;01m.\u001b[39;00m\u001b[38;5;21;01mprocessor\u001b[39;00m\u001b[38;5;21;01m.\u001b[39;00m\u001b[38;5;21;01mcontext\u001b[39;00m \u001b[38;5;28;01mimport\u001b[39;00m Context\n",
      "File \u001b[0;32m~/myenv/lib/python3.11/site-packages/sawtooth_sdk/messaging/stream.py:50\u001b[0m\n\u001b[1;32m     46\u001b[0m \u001b[38;5;28;01mdef\u001b[39;00m \u001b[38;5;21m_generate_id\u001b[39m():\n\u001b[1;32m     47\u001b[0m     \u001b[38;5;28;01mreturn\u001b[39;00m uuid\u001b[38;5;241m.\u001b[39muuid4()\u001b[38;5;241m.\u001b[39mhex\u001b[38;5;241m.\u001b[39mencode()\n\u001b[0;32m---> 50\u001b[0m \u001b[38;5;28;43;01mclass\u001b[39;49;00m\u001b[43m \u001b[49m\u001b[38;5;21;43;01m_SendReceiveThread\u001b[39;49;00m\u001b[43m(\u001b[49m\u001b[43mThread\u001b[49m\u001b[43m)\u001b[49m\u001b[43m:\u001b[49m\n\u001b[1;32m     51\u001b[0m \u001b[38;5;250;43m    \u001b[39;49m\u001b[38;5;124;43;03m\"\"\"\u001b[39;49;00m\n\u001b[1;32m     52\u001b[0m \u001b[38;5;124;43;03m    Internal thread to Stream class that runs the asyncio event loop.\u001b[39;49;00m\n\u001b[1;32m     53\u001b[0m \u001b[38;5;124;43;03m    \"\"\"\u001b[39;49;00m\n\u001b[1;32m     55\u001b[0m \u001b[43m    \u001b[49m\u001b[38;5;28;43;01mdef\u001b[39;49;00m\u001b[43m \u001b[49m\u001b[38;5;21;43m__init__\u001b[39;49m\u001b[43m(\u001b[49m\u001b[38;5;28;43mself\u001b[39;49m\u001b[43m,\u001b[49m\u001b[43m \u001b[49m\u001b[43murl\u001b[49m\u001b[43m,\u001b[49m\u001b[43m \u001b[49m\u001b[43mfutures\u001b[49m\u001b[43m,\u001b[49m\u001b[43m \u001b[49m\u001b[43mready_event\u001b[49m\u001b[43m,\u001b[49m\u001b[43m \u001b[49m\u001b[43merror_queue\u001b[49m\u001b[43m)\u001b[49m\u001b[43m:\u001b[49m\n",
      "File \u001b[0;32m~/myenv/lib/python3.11/site-packages/sawtooth_sdk/messaging/stream.py:81\u001b[0m, in \u001b[0;36m_SendReceiveThread\u001b[0;34m()\u001b[0m\n\u001b[1;32m     78\u001b[0m     \u001b[38;5;28mself\u001b[39m\u001b[38;5;241m.\u001b[39m_condition \u001b[38;5;241m=\u001b[39m Condition()\n\u001b[1;32m     79\u001b[0m     \u001b[38;5;28mself\u001b[39m\u001b[38;5;241m.\u001b[39midentity \u001b[38;5;241m=\u001b[39m _generate_id()[\u001b[38;5;241m0\u001b[39m:\u001b[38;5;241m16\u001b[39m]\n\u001b[0;32m---> 81\u001b[0m \u001b[38;5;129m@asyncio\u001b[39m\u001b[38;5;241;43m.\u001b[39;49m\u001b[43mcoroutine\u001b[49m\n\u001b[1;32m     82\u001b[0m \u001b[38;5;28;01mdef\u001b[39;00m \u001b[38;5;21m_receive_message\u001b[39m(\u001b[38;5;28mself\u001b[39m):\n\u001b[1;32m     83\u001b[0m \u001b[38;5;250m    \u001b[39m\u001b[38;5;124;03m\"\"\"\u001b[39;00m\n\u001b[1;32m     84\u001b[0m \u001b[38;5;124;03m    internal coroutine that receives messages and puts\u001b[39;00m\n\u001b[1;32m     85\u001b[0m \u001b[38;5;124;03m    them on the recv_queue\u001b[39;00m\n\u001b[1;32m     86\u001b[0m \u001b[38;5;124;03m    \"\"\"\u001b[39;00m\n\u001b[1;32m     87\u001b[0m     \u001b[38;5;28;01mwhile\u001b[39;00m \u001b[38;5;28;01mTrue\u001b[39;00m:\n",
      "\u001b[0;31mAttributeError\u001b[0m: module 'asyncio' has no attribute 'coroutine'"
     ]
    }
   ],
   "source": [
    "import sawtooth_sdk.processor.core"
   ]
  },
  {
   "cell_type": "code",
   "execution_count": 41,
   "id": "3a6b82dc-c884-4148-9a20-1254b9384ff5",
   "metadata": {},
   "outputs": [],
   "source": [
    "# Define the transaction family name\n",
    "FAMILY_NAME = \"simple_blockchain\""
   ]
  },
  {
   "cell_type": "code",
   "execution_count": 42,
   "id": "2c3f2dc3-0dcb-4a19-89ac-644759999828",
   "metadata": {},
   "outputs": [],
   "source": [
    "class SimpleBlockchainTransactionHandler(handler.TransactionHandler):\n",
    "    def __init__(self):\n",
    "        self._family_name = FAMILY_NAME\n",
    "\n",
    "    def namespaces(self):\n",
    "        return [FAMILY_NAME]\n",
    "\n",
    "    def family_name(self):\n",
    "        return self._family_name\n",
    "\n",
    "    def family_versions(self):\n",
    "        return [\"1.0\"]\n",
    "\n",
    "    def apply(self, transaction, context):\n",
    "        header = transaction.header\n",
    "        payload = transaction.payload.decode(\"utf-8\")\n",
    "        address = self.make_address(payload)\n",
    "\n",
    "        state = context.get_state([address])\n",
    "\n",
    "        if state:\n",
    "            state_str = state[0].data.decode(\"utf-8\")\n",
    "            state_value = int(state_str)\n",
    "        else:\n",
    "            state_value = 0\n",
    "\n",
    "        updated_value = state_value + 1\n",
    "\n",
    "        context.set_state({address: str(updated_value).encode(\"utf-8\")})\n",
    "\n",
    "    def make_address(self, payload):\n",
    "        payload_hash = hashlib.sha512(payload.encode(\"utf-8\")).hexdigest()\n",
    "        return FAMILY_NAME.encode(\"utf-8\") + payload_hash[:64].encode(\"utf-8\")"
   ]
  },
  {
   "cell_type": "code",
   "execution_count": 43,
   "id": "12daef07-4045-4b7b-80bc-d9cf085c933a",
   "metadata": {},
   "outputs": [
    {
     "ename": "AttributeError",
     "evalue": "module 'sawtooth_sdk.processor' has no attribute 'add_handler'",
     "output_type": "error",
     "traceback": [
      "\u001b[0;31m---------------------------------------------------------------------------\u001b[0m",
      "\u001b[0;31mAttributeError\u001b[0m                            Traceback (most recent call last)",
      "Cell \u001b[0;32mIn[43], line 3\u001b[0m\n\u001b[1;32m      1\u001b[0m \u001b[38;5;66;03m# processor = handler.TransactionProcessor(url=\"tcp://localhost:4004\")\u001b[39;00m\n\u001b[1;32m      2\u001b[0m handler \u001b[38;5;241m=\u001b[39m SimpleBlockchainTransactionHandler()\n\u001b[0;32m----> 3\u001b[0m \u001b[43mprocessor\u001b[49m\u001b[38;5;241;43m.\u001b[39;49m\u001b[43madd_handler\u001b[49m(handler)\n\u001b[1;32m      4\u001b[0m \u001b[38;5;28mprint\u001b[39m(\u001b[38;5;124m\"\u001b[39m\u001b[38;5;124mStarting transaction processor...\u001b[39m\u001b[38;5;124m\"\u001b[39m)\n\u001b[1;32m      5\u001b[0m \u001b[38;5;28;01mtry\u001b[39;00m:\n",
      "\u001b[0;31mAttributeError\u001b[0m: module 'sawtooth_sdk.processor' has no attribute 'add_handler'"
     ]
    }
   ],
   "source": [
    "# processor = handler.TransactionProcessor(url=\"tcp://localhost:4004\")\n",
    "handler = SimpleBlockchainTransactionHandler()\n",
    "processor.add_handler(handler)\n",
    "print(\"Starting transaction processor...\")\n",
    "try:\n",
    "    processor.start()\n",
    "except KeyboardInterrupt:\n",
    "    processor.stop()"
   ]
  },
  {
   "cell_type": "code",
   "execution_count": 3,
   "id": "e8222ee8-bc56-4400-bcf2-0f953dad028e",
   "metadata": {},
   "outputs": [
    {
     "ename": "AttributeError",
     "evalue": "module 'asyncio' has no attribute 'coroutine'",
     "output_type": "error",
     "traceback": [
      "\u001b[0;31m---------------------------------------------------------------------------\u001b[0m",
      "\u001b[0;31mAttributeError\u001b[0m                            Traceback (most recent call last)",
      "Cell \u001b[0;32mIn[3], line 1\u001b[0m\n\u001b[0;32m----> 1\u001b[0m \u001b[38;5;28;01mfrom\u001b[39;00m \u001b[38;5;21;01msawtooth_sdk\u001b[39;00m\u001b[38;5;21;01m.\u001b[39;00m\u001b[38;5;21;01mprocessor\u001b[39;00m\u001b[38;5;21;01m.\u001b[39;00m\u001b[38;5;21;01mcore\u001b[39;00m \u001b[38;5;28;01mimport\u001b[39;00m TransactionProcessor\n\u001b[1;32m      2\u001b[0m \u001b[38;5;28;01mfrom\u001b[39;00m \u001b[38;5;21;01msawtooth_xo\u001b[39;00m\u001b[38;5;21;01m.\u001b[39;00m\u001b[38;5;21;01mprocessor\u001b[39;00m\u001b[38;5;21;01m.\u001b[39;00m\u001b[38;5;21;01mhandler\u001b[39;00m \u001b[38;5;28;01mimport\u001b[39;00m XoTransactionHandler\n\u001b[1;32m      4\u001b[0m \u001b[38;5;28;01mdef\u001b[39;00m \u001b[38;5;21mmain\u001b[39m():\n\u001b[1;32m      5\u001b[0m     \u001b[38;5;66;03m# In docker, the url would be the validator's container name with\u001b[39;00m\n\u001b[1;32m      6\u001b[0m     \u001b[38;5;66;03m# port 4004\u001b[39;00m\n",
      "File \u001b[0;32m~/myenv/lib/python3.11/site-packages/sawtooth_sdk/processor/core.py:26\u001b[0m\n\u001b[1;32m     24\u001b[0m \u001b[38;5;28;01mfrom\u001b[39;00m \u001b[38;5;21;01msawtooth_sdk\u001b[39;00m\u001b[38;5;21;01m.\u001b[39;00m\u001b[38;5;21;01mmessaging\u001b[39;00m\u001b[38;5;21;01m.\u001b[39;00m\u001b[38;5;21;01mexceptions\u001b[39;00m \u001b[38;5;28;01mimport\u001b[39;00m ValidatorVersionError\n\u001b[1;32m     25\u001b[0m \u001b[38;5;28;01mfrom\u001b[39;00m \u001b[38;5;21;01msawtooth_sdk\u001b[39;00m\u001b[38;5;21;01m.\u001b[39;00m\u001b[38;5;21;01mmessaging\u001b[39;00m\u001b[38;5;21;01m.\u001b[39;00m\u001b[38;5;21;01mfuture\u001b[39;00m \u001b[38;5;28;01mimport\u001b[39;00m FutureTimeoutError\n\u001b[0;32m---> 26\u001b[0m \u001b[38;5;28;01mfrom\u001b[39;00m \u001b[38;5;21;01msawtooth_sdk\u001b[39;00m\u001b[38;5;21;01m.\u001b[39;00m\u001b[38;5;21;01mmessaging\u001b[39;00m\u001b[38;5;21;01m.\u001b[39;00m\u001b[38;5;21;01mstream\u001b[39;00m \u001b[38;5;28;01mimport\u001b[39;00m RECONNECT_EVENT\n\u001b[1;32m     27\u001b[0m \u001b[38;5;28;01mfrom\u001b[39;00m \u001b[38;5;21;01msawtooth_sdk\u001b[39;00m\u001b[38;5;21;01m.\u001b[39;00m\u001b[38;5;21;01mmessaging\u001b[39;00m\u001b[38;5;21;01m.\u001b[39;00m\u001b[38;5;21;01mstream\u001b[39;00m \u001b[38;5;28;01mimport\u001b[39;00m Stream\n\u001b[1;32m     29\u001b[0m \u001b[38;5;28;01mfrom\u001b[39;00m \u001b[38;5;21;01msawtooth_sdk\u001b[39;00m\u001b[38;5;21;01m.\u001b[39;00m\u001b[38;5;21;01mprocessor\u001b[39;00m\u001b[38;5;21;01m.\u001b[39;00m\u001b[38;5;21;01mcontext\u001b[39;00m \u001b[38;5;28;01mimport\u001b[39;00m Context\n",
      "File \u001b[0;32m~/myenv/lib/python3.11/site-packages/sawtooth_sdk/messaging/stream.py:50\u001b[0m\n\u001b[1;32m     46\u001b[0m \u001b[38;5;28;01mdef\u001b[39;00m \u001b[38;5;21m_generate_id\u001b[39m():\n\u001b[1;32m     47\u001b[0m     \u001b[38;5;28;01mreturn\u001b[39;00m uuid\u001b[38;5;241m.\u001b[39muuid4()\u001b[38;5;241m.\u001b[39mhex\u001b[38;5;241m.\u001b[39mencode()\n\u001b[0;32m---> 50\u001b[0m \u001b[38;5;28;43;01mclass\u001b[39;49;00m\u001b[43m \u001b[49m\u001b[38;5;21;43;01m_SendReceiveThread\u001b[39;49;00m\u001b[43m(\u001b[49m\u001b[43mThread\u001b[49m\u001b[43m)\u001b[49m\u001b[43m:\u001b[49m\n\u001b[1;32m     51\u001b[0m \u001b[38;5;250;43m    \u001b[39;49m\u001b[38;5;124;43;03m\"\"\"\u001b[39;49;00m\n\u001b[1;32m     52\u001b[0m \u001b[38;5;124;43;03m    Internal thread to Stream class that runs the asyncio event loop.\u001b[39;49;00m\n\u001b[1;32m     53\u001b[0m \u001b[38;5;124;43;03m    \"\"\"\u001b[39;49;00m\n\u001b[1;32m     55\u001b[0m \u001b[43m    \u001b[49m\u001b[38;5;28;43;01mdef\u001b[39;49;00m\u001b[43m \u001b[49m\u001b[38;5;21;43m__init__\u001b[39;49m\u001b[43m(\u001b[49m\u001b[38;5;28;43mself\u001b[39;49m\u001b[43m,\u001b[49m\u001b[43m \u001b[49m\u001b[43murl\u001b[49m\u001b[43m,\u001b[49m\u001b[43m \u001b[49m\u001b[43mfutures\u001b[49m\u001b[43m,\u001b[49m\u001b[43m \u001b[49m\u001b[43mready_event\u001b[49m\u001b[43m,\u001b[49m\u001b[43m \u001b[49m\u001b[43merror_queue\u001b[49m\u001b[43m)\u001b[49m\u001b[43m:\u001b[49m\n",
      "File \u001b[0;32m~/myenv/lib/python3.11/site-packages/sawtooth_sdk/messaging/stream.py:81\u001b[0m, in \u001b[0;36m_SendReceiveThread\u001b[0;34m()\u001b[0m\n\u001b[1;32m     78\u001b[0m     \u001b[38;5;28mself\u001b[39m\u001b[38;5;241m.\u001b[39m_condition \u001b[38;5;241m=\u001b[39m Condition()\n\u001b[1;32m     79\u001b[0m     \u001b[38;5;28mself\u001b[39m\u001b[38;5;241m.\u001b[39midentity \u001b[38;5;241m=\u001b[39m _generate_id()[\u001b[38;5;241m0\u001b[39m:\u001b[38;5;241m16\u001b[39m]\n\u001b[0;32m---> 81\u001b[0m \u001b[38;5;129m@asyncio\u001b[39m\u001b[38;5;241;43m.\u001b[39;49m\u001b[43mcoroutine\u001b[49m\n\u001b[1;32m     82\u001b[0m \u001b[38;5;28;01mdef\u001b[39;00m \u001b[38;5;21m_receive_message\u001b[39m(\u001b[38;5;28mself\u001b[39m):\n\u001b[1;32m     83\u001b[0m \u001b[38;5;250m    \u001b[39m\u001b[38;5;124;03m\"\"\"\u001b[39;00m\n\u001b[1;32m     84\u001b[0m \u001b[38;5;124;03m    internal coroutine that receives messages and puts\u001b[39;00m\n\u001b[1;32m     85\u001b[0m \u001b[38;5;124;03m    them on the recv_queue\u001b[39;00m\n\u001b[1;32m     86\u001b[0m \u001b[38;5;124;03m    \"\"\"\u001b[39;00m\n\u001b[1;32m     87\u001b[0m     \u001b[38;5;28;01mwhile\u001b[39;00m \u001b[38;5;28;01mTrue\u001b[39;00m:\n",
      "\u001b[0;31mAttributeError\u001b[0m: module 'asyncio' has no attribute 'coroutine'"
     ]
    }
   ],
   "source": [
    "from sawtooth_sdk.processor.core import TransactionProcessor\n",
    "from sawtooth_xo.processor.handler import XoTransactionHandler\n",
    "\n",
    "def main():\n",
    "    # In docker, the url would be the validator's container name with\n",
    "    # port 4004\n",
    "    processor = TransactionProcessor(url='tcp://127.0.0.1:4004')\n",
    "\n",
    "    handler = XoTransactionHandler()\n",
    "\n",
    "    processor.add_handler(handler)\n",
    "\n",
    "    processor.start()"
   ]
  },
  {
   "cell_type": "code",
   "execution_count": null,
   "id": "b649b26f-c6b4-463c-a2d9-62d2963d2a9c",
   "metadata": {},
   "outputs": [],
   "source": []
  }
 ],
 "metadata": {
  "kernelspec": {
   "display_name": "Python 3 (ipykernel)",
   "language": "python",
   "name": "python3"
  },
  "language_info": {
   "codemirror_mode": {
    "name": "ipython",
    "version": 3
   },
   "file_extension": ".py",
   "mimetype": "text/x-python",
   "name": "python",
   "nbconvert_exporter": "python",
   "pygments_lexer": "ipython3",
   "version": "3.11.4"
  }
 },
 "nbformat": 4,
 "nbformat_minor": 5
}
